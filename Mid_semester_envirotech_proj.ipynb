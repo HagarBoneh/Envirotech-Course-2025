{
 "cells": [
  {
   "cell_type": "code",
   "execution_count": 22,
   "id": "98f57c0a-79e6-4ea0-8c3a-8c9558ece018",
   "metadata": {
    "editable": true,
    "slideshow": {
     "slide_type": ""
    },
    "tags": []
   },
   "outputs": [],
   "source": [
    "#impirting the packages:\n",
    "import os\n",
    "import pandas as pd\n",
    "import matplotlib.pyplot as plt\n",
    "import seaborn as sns\n",
    "from datetime import datetime, timedelta\n",
    "from sklearn.linear_model import LinearRegression\n",
    "from sklearn.metrics import r2_score"
   ]
  },
  {
   "cell_type": "code",
   "execution_count": 36,
   "id": "6e224a87-2038-4226-af38-481bc36e465e",
   "metadata": {},
   "outputs": [
    {
     "name": "stdout",
     "output_type": "stream",
     "text": [
      "✅ Cleaned data saved to Excel and CSV\n"
     ]
    }
   ],
   "source": [
    "# === Parameters ===\n",
    "file_path = r\"C:\\Users\\gura1\\OneDrive - post.bgu.ac.il\\M.A\\Year 1\\2nd Semester 2025\\Envirotech  do it yourself sensors for environmental research\\LOG1.TXT\"\n",
    "save_dir = r\"C:\\Users\\gura1\\OneDrive - post.bgu.ac.il\\M.A\\Year 1\\2nd Semester 2025\\Envirotech  do it yourself sensors for environmental research\\graphs\"\n",
    "start_datetime = datetime(2025, 5, 14, 16, 16, 0)\n",
    "\n",
    "os.makedirs(save_dir, exist_ok=True)\n",
    "\n",
    "# === Load & Clean Data ===\n",
    "columns = ['Time_ms', 'SHTC3_Temp', 'SHTC3_Humidity', 'SCD4x_Temp', 'SCD4x_Humidity', 'SCD4x_CO2']\n",
    "df = pd.read_csv(file_path, names=columns)\n",
    "\n",
    "# Convert all to numeric and drop bad rows\n",
    "df = df.apply(pd.to_numeric, errors='coerce')\n",
    "df = df.dropna()\n",
    "\n",
    "# Remove zero values (outliers) from any sensor readings because sometimes\n",
    "df = df[\n",
    "    (df['SHTC3_Temp'] != 0) &\n",
    "    (df['SHTC3_Humidity'] != 0) &\n",
    "    (df['SCD4x_Temp'] != 0) &\n",
    "    (df['SCD4x_Humidity'] != 0) &\n",
    "    (df['SCD4x_CO2'] != 0)\n",
    "]\n",
    "\n",
    "# Add timestamp column\n",
    "df['Timestamp'] = df['Time_ms'].apply(lambda ms: start_datetime + timedelta(milliseconds=ms))\n",
    "\n",
    "# === Save Cleaned Data ===\n",
    "output_excel = os.path.join(save_dir, \"cleaned_data.xlsx\")\n",
    "output_csv = os.path.join(save_dir, \"cleaned_data.csv\")\n",
    "\n",
    "df.to_excel(output_excel, index=False)\n",
    "df.to_csv(output_csv, index=False)\n",
    "print(\"✅ Cleaned data saved to Excel and CSV\")\n",
    "\n",
    "# === Plotting Functions ===\n",
    "def plot_combined(y1, y2, y1_label, y2_label, title, ylabel, filename):\n",
    "    plt.figure(figsize=(12, 6))\n",
    "    sns.lineplot(x=df['Timestamp'], y=y1, label=y1_label)\n",
    "    sns.lineplot(x=df['Timestamp'], y=y2, label=y2_label)\n",
    "    plt.title(title)\n",
    "    plt.xlabel(\"Time\")\n",
    "    plt.ylabel(ylabel)\n",
    "    plt.xticks(rotation=45)\n",
    "    plt.tight_layout()\n",
    "    plt.legend()\n",
    "    plt.savefig(os.path.join(save_dir, filename))\n",
    "    plt.close()\n",
    "\n",
    "def plot_single(x, y, title, ylabel, filename):\n",
    "    plt.figure(figsize=(12, 6))\n",
    "    sns.lineplot(x=x, y=y)\n",
    "    plt.title(title)\n",
    "    plt.xlabel(\"Time\")\n",
    "    plt.ylabel(ylabel)\n",
    "    plt.xticks(rotation=45)\n",
    "    plt.tight_layout()\n",
    "    plt.savefig(os.path.join(save_dir, filename))\n",
    "    plt.close()\n",
    "\n",
    "def correlation_plot(x, y, xlabel, ylabel, title, filename):\n",
    "    plt.figure(figsize=(8, 6))\n",
    "    sns.regplot(x=x, y=y, line_kws={\"color\": \"red\"})\n",
    "    model = LinearRegression().fit(x.values.reshape(-1, 1), y.values)\n",
    "    r2 = r2_score(y, model.predict(x.values.reshape(-1, 1)))\n",
    "    plt.title(f\"{title}\\nR² = {r2:.3f}\")\n",
    "    plt.xlabel(xlabel)\n",
    "    plt.ylabel(ylabel)\n",
    "    plt.tight_layout()\n",
    "    plt.savefig(os.path.join(save_dir, filename))\n",
    "    plt.close()\n",
    "    print(f'{title} -> R² = {r2:.3f}')\n"
   ]
  },
  {
   "cell_type": "code",
   "execution_count": 37,
   "id": "b69d0a62-58ba-428a-9c57-b02c794d47fc",
   "metadata": {},
   "outputs": [],
   "source": [
    "# === Temperature Plot ===\n",
    "plot_combined(df['SHTC3_Temp'], df['SCD4x_Temp'],\n",
    "              'SHTC3 Temp', 'SCD4x Temp',\n",
    "              'Temperature Over Time (SHTC3 vs SCD4x)',\n",
    "              'Temperature (°C)', 'temperature_comparison.png')"
   ]
  },
  {
   "cell_type": "code",
   "execution_count": 38,
   "id": "79638b06-981d-4d7a-a501-65057f761cd8",
   "metadata": {},
   "outputs": [],
   "source": [
    "# === Humidity Plot ===\n",
    "plot_combined(df['SHTC3_Humidity'], df['SCD4x_Humidity'],\n",
    "              'SHTC3 Humidity', 'SCD4x Humidity',\n",
    "              'Humidity Over Time (SHTC3 vs SCD4x)',\n",
    "              'Relative Humidity (%)', 'humidity_comparison.png')"
   ]
  },
  {
   "cell_type": "code",
   "execution_count": 39,
   "id": "2d63c0b8-e2c9-4654-9e50-7b5ce7be76f5",
   "metadata": {},
   "outputs": [],
   "source": [
    "# === CO2 Plot ===\n",
    "plot_single(df['Timestamp'], df['SCD4x_CO2'],\n",
    "            'CO2 Concentration Over Time (SCD4x)',\n",
    "            'CO2 (ppm)', 'co2_concentration.png')"
   ]
  },
  {
   "cell_type": "code",
   "execution_count": 40,
   "id": "290c9523-2ccd-406e-9c3c-073b9049f1c9",
   "metadata": {},
   "outputs": [
    {
     "name": "stdout",
     "output_type": "stream",
     "text": [
      "Correlation: Temperature SHTC3 vs SCD4x -> R² = 0.974\n",
      "Correlation: Humidity SHTC3 vs SCD4x -> R² = 0.995\n",
      "✅ All graphs and Excel file saved to: C:\\Users\\gura1\\OneDrive - post.bgu.ac.il\\M.A\\Year 1\\2nd Semester 2025\\Envirotech  do it yourself sensors for environmental research\\graphs\n"
     ]
    }
   ],
   "source": [
    "# === Correlation Plots ===\n",
    "correlation_plot(df['SHTC3_Temp'], df['SCD4x_Temp'],\n",
    "                 'SHTC3 Temperature (°C)', 'SCD4x Temperature (°C)',\n",
    "                 'Correlation: Temperature SHTC3 vs SCD4x',\n",
    "                 'temp_corr.png')\n",
    "\n",
    "correlation_plot(df['SHTC3_Humidity'], df['SCD4x_Humidity'],\n",
    "                 'SHTC3 Humidity (%)', 'SCD4x Humidity (%)',\n",
    "                 'Correlation: Humidity SHTC3 vs SCD4x',\n",
    "                 'humidity_corr.png')\n",
    "\n",
    "print(\"✅ All graphs and Excel file saved to:\", save_dir)"
   ]
  },
  {
   "cell_type": "code",
   "execution_count": null,
   "id": "b66aacde-90d2-460d-ab41-4f3520e87f04",
   "metadata": {},
   "outputs": [],
   "source": []
  }
 ],
 "metadata": {
  "kernelspec": {
   "display_name": "Python 3 (ipykernel)",
   "language": "python",
   "name": "python3"
  },
  "language_info": {
   "codemirror_mode": {
    "name": "ipython",
    "version": 3
   },
   "file_extension": ".py",
   "mimetype": "text/x-python",
   "name": "python",
   "nbconvert_exporter": "python",
   "pygments_lexer": "ipython3",
   "version": "3.12.3"
  }
 },
 "nbformat": 4,
 "nbformat_minor": 5
}
